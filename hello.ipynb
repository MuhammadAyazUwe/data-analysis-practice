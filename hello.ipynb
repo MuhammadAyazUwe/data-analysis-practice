{
 "cells": [
  {
   "cell_type": "code",
   "execution_count": 4,
   "id": "b1f220cc",
   "metadata": {},
   "outputs": [
    {
     "name": "stdout",
     "output_type": "stream",
     "text": [
      "Hello, World!\n"
     ]
    }
   ],
   "source": [
    "\n",
    "print(\"Hello, World!\")"
   ]
  },
  {
   "cell_type": "markdown",
   "id": "e9b61a88",
   "metadata": {},
   "source": [
    "# To check the Python version of the editor \n",
    "you can find it by importing the sys module:"
   ]
  },
  {
   "cell_type": "code",
   "execution_count": 5,
   "id": "7062cb35",
   "metadata": {},
   "outputs": [
    {
     "name": "stdout",
     "output_type": "stream",
     "text": [
      "Python version: 3.13.5 (main, Jun 11 2025, 15:36:57) [Clang 17.0.0 (clang-1700.0.13.3)]\n"
     ]
    }
   ],
   "source": [
    "import sys \n",
    "\n",
    "print(\"Python version:\",\n",
    "       sys.version)"
   ]
  },
  {
   "cell_type": "markdown",
   "id": "5db1a83b",
   "metadata": {},
   "source": [
    "## Random Number\n",
    "Python has a built-in module called random that can be used to make random numbers:"
   ]
  },
  {
   "cell_type": "code",
   "execution_count": 98,
   "id": "58072e39",
   "metadata": {},
   "outputs": [
    {
     "name": "stdout",
     "output_type": "stream",
     "text": [
      "0.841619265170357\n",
      "4\n",
      "3\n",
      "9\n",
      "8.980996079825804\n",
      "apple\n"
     ]
    }
   ],
   "source": [
    "import random \n",
    "print(random.random())  # prints a random float between 0 and 1 (inclusive of 0, but not 1)\n",
    "print(random.randint(1, 10))  # prints a random integer between 1 and 10 (inclusive)\n",
    "print(random.randrange(1,10)) # prints a random integer between 1 and 9 (inclusive)\n",
    "print(random.randrange(1,10,2)) # prints a random odd integer between 1 and 9 (inclusive)\n",
    "print(random.uniform(1,10)) # prints a random float between 1 and 10 (inclusive)\n",
    "print(random.choice(['apple', 'banana', 'cherry'])) # prints a random element from the list"
   ]
  },
  {
   "cell_type": "markdown",
   "id": "b578c2df",
   "metadata": {},
   "source": [
    "## Strings\n",
    "Strings in python are surrounded by either single quotation marks, or double quotation marks.\n",
    "\n",
    "'Muhammad' is the same as \"Muhammad\".\n",
    "\n",
    "You can display a string literal with the print() function:"
   ]
  },
  {
   "cell_type": "code",
   "execution_count": 99,
   "id": "90a7d5df",
   "metadata": {},
   "outputs": [
    {
     "name": "stdout",
     "output_type": "stream",
     "text": [
      "Hello\n",
      "Hello\n"
     ]
    }
   ],
   "source": [
    "print(\"Hello\")\n",
    "print('Hello') "
   ]
  },
  {
   "cell_type": "markdown",
   "id": "eb616e47",
   "metadata": {},
   "source": [
    "## Assign String to a Variable\n",
    "Assigning a string to a variable is done with the variable name followed by an equal sign and the string:\n",
    "\n"
   ]
  },
  {
   "cell_type": "code",
   "execution_count": 100,
   "id": "4b9160b3",
   "metadata": {},
   "outputs": [
    {
     "name": "stdout",
     "output_type": "stream",
     "text": [
      "Muhammad\n"
     ]
    }
   ],
   "source": [
    "a= \"Muhammad\"\n",
    "print(a)"
   ]
  },
  {
   "cell_type": "markdown",
   "id": "3a358d49",
   "metadata": {},
   "source": [
    "## Multiline Strings\n",
    "You can assign a multiline string to a variable by using three quotes:\n",
    "\n"
   ]
  },
  {
   "cell_type": "code",
   "execution_count": null,
   "id": "3e6ea285",
   "metadata": {},
   "outputs": [
    {
     "name": "stdout",
     "output_type": "stream",
     "text": [
      " this is a multiline string , i am Muhammad \n",
      "and i am learning python ,\n",
      "this one is very easy language\n"
     ]
    },
    {
     "data": {
      "text/plain": [
       "(None,)"
      ]
     },
     "execution_count": 101,
     "metadata": {},
     "output_type": "execute_result"
    }
   ],
   "source": [
    "a = \"\"\" this is a multiline string , i am Muhammad \n",
    "and i am learning python ,\n",
    "this one is very easy language\"\"\"\n",
    "print(a),"
   ]
  },
  {
   "cell_type": "markdown",
   "id": "494528dc",
   "metadata": {},
   "source": [
    "## Strings are Arrays\n",
    "Like many other popular programming languages, strings in Python are arrays of unicode characters.\n",
    "\n",
    "However, Python does not have a character data type, a single character is simply a string with a length of 1.\n",
    "\n",
    "Square brackets can be used to access elements of the string."
   ]
  },
  {
   "cell_type": "code",
   "execution_count": 106,
   "id": "a14d1e58",
   "metadata": {},
   "outputs": [
    {
     "name": "stdout",
     "output_type": "stream",
     "text": [
      "m\n",
      "h\n",
      "d\n",
      "z\n",
      "y\n",
      "-----------------------------------------------\n",
      "set the loop in string that is basically array\n",
      "-----------------------------------------------\n",
      "13\n",
      "m\n",
      "u\n",
      "h\n",
      "a\n",
      "m\n",
      "m\n",
      "a\n",
      "d\n",
      " \n",
      "a\n",
      "y\n",
      "a\n",
      "z\n"
     ]
    }
   ],
   "source": [
    "a = \"muhammad ayaz\"\n",
    "print(a[0])  # prints 'm'\n",
    "print(a[2])  # prints 'h'\n",
    "print(a[7])  # prints 'd'\n",
    "print(a[-1]) # prints 'z' (last character)\n",
    "print(a[-3]) # prints 'y' (third last character)        \n",
    "\n",
    "print(\"-----------------------------------------------\")\n",
    "print(\"set the loop in string that is basically array\")\n",
    "print(\"-----------------------------------------------\")\n",
    "\n",
    "print(len(a))  # prints the length of the string\n",
    "\n",
    "for x in a :\n",
    "    print(x)"
   ]
  }
 ],
 "metadata": {
  "kernelspec": {
   "display_name": "Python 3",
   "language": "python",
   "name": "python3"
  },
  "language_info": {
   "codemirror_mode": {
    "name": "ipython",
    "version": 3
   },
   "file_extension": ".py",
   "mimetype": "text/x-python",
   "name": "python",
   "nbconvert_exporter": "python",
   "pygments_lexer": "ipython3",
   "version": "3.13.5"
  }
 },
 "nbformat": 4,
 "nbformat_minor": 5
}
