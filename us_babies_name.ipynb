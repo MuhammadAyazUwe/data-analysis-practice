{
 "cells": [
  {
   "cell_type": "code",
   "execution_count": 41,
   "id": "56a60646",
   "metadata": {},
   "outputs": [
    {
     "name": "stdout",
     "output_type": "stream",
     "text": [
      "pandas is already installed\n"
     ]
    }
   ],
   "source": [
    "# Install pandas if not already installed\n",
    "import subprocess\n",
    "import sys\n",
    "\n",
    "try:\n",
    "    import pandas as pd\n",
    "    print(\"pandas is already installed\")\n",
    "except ImportError:\n",
    "    print(\"Installing pandas...\")\n",
    "    subprocess.check_call([sys.executable, \"-m\", \"pip\", \"install\", \"pandas\"])\n",
    "    import pandas as pd\n",
    "    print(\"pandas installed successfully!\")"
   ]
  },
  {
   "cell_type": "code",
   "execution_count": 43,
   "id": "e80dd4ec",
   "metadata": {},
   "outputs": [
    {
     "name": "stdout",
     "output_type": "stream",
     "text": [
      "   Id       Name  Year Gender  Count\n",
      "0   1       Mary  1880      F   7065\n",
      "1   2       Anna  1880      F   2604\n",
      "2   3       Emma  1880      F   2003\n",
      "3   4  Elizabeth  1880      F   1939\n",
      "4   5     Minnie  1880      F   1746\n"
     ]
    }
   ],
   "source": [
    "import pandas as pd\n",
    "\n",
    "def main():\n",
    "    read_file = 'data/us_baby_names.csv'  \n",
    "    df = pd.read_csv(read_file)\n",
    "    print(\"First 5 rows of the DataFrame:\")\n",
    "    print(df.head())\n",
    "\n",
    "\n",
    "\n",
    "\n",
    "\n",
    "\n"
   ]
  }
 ],
 "metadata": {
  "kernelspec": {
   "display_name": "Python 3",
   "language": "python",
   "name": "python3"
  },
  "language_info": {
   "codemirror_mode": {
    "name": "ipython",
    "version": 3
   },
   "file_extension": ".py",
   "mimetype": "text/x-python",
   "name": "python",
   "nbconvert_exporter": "python",
   "pygments_lexer": "ipython3",
   "version": "3.13.5"
  }
 },
 "nbformat": 4,
 "nbformat_minor": 5
}
